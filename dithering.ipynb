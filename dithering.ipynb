{
  "nbformat": 4,
  "nbformat_minor": 0,
  "metadata": {
    "colab": {
      "name": "Untitled2.ipynb",
      "provenance": [],
      "collapsed_sections": [],
      "authorship_tag": "ABX9TyPcxp9j2Zskmy2LHMnExlmU",
      "include_colab_link": true
    },
    "kernelspec": {
      "name": "python3",
      "display_name": "Python 3"
    },
    "language_info": {
      "name": "python"
    }
  },
  "cells": [
    {
      "cell_type": "markdown",
      "metadata": {
        "id": "view-in-github",
        "colab_type": "text"
      },
      "source": [
        "<a href=\"https://colab.research.google.com/github/TeresaCristina/cross-stitch-python/blob/main/dithering.ipynb\" target=\"_parent\"><img src=\"https://colab.research.google.com/assets/colab-badge.svg\" alt=\"Open In Colab\"/></a>"
      ]
    },
    {
      "cell_type": "code",
      "metadata": {
        "colab": {
          "base_uri": "https://localhost:8080/"
        },
        "id": "Wy06kLwxIFa2",
        "outputId": "1fceeab9-0b55-40b1-bacb-96ef85e7b467"
      },
      "source": [
        "! pip install PyDither\n",
        "\n",
        "# https://study.marearts.com/2018/10/dithering-python-opencv-source-code.html\n",
        "import cv2\n",
        "import numpy as np\n",
        "\n",
        "\n",
        "def minmax(v):\n",
        "    if v > 255:\n",
        "        v = 255\n",
        "    if v < 0:\n",
        "        v = 0\n",
        "    return v\n",
        "\n",
        "\n",
        "def dithering_gray(inMat, samplingF):\n",
        "    #https://en.wikipedia.org/wiki/Floyd–Steinberg_dithering\n",
        "    #https://www.youtube.com/watch?v=0L2n8Tg2FwI&t=0s&list=WL&index=151\n",
        "    #input is supposed as color\n",
        "    # grab the image dimensions\n",
        "    h = inMat.shape[0]\n",
        "    w = inMat.shape[1]\n",
        "    \n",
        "    # loop over the image\n",
        "    for y in range(0, h-1):\n",
        "        for x in range(1, w-1):\n",
        "            # threshold the pixel\n",
        "            old_p = inMat[y, x]\n",
        "            new_p = np.round(samplingF * old_p/255.0) * (255/samplingF)\n",
        "            inMat[y, x] = new_p\n",
        "            \n",
        "            quant_error_p = old_p - new_p\n",
        "            \n",
        "\n",
        "\n",
        "            # inMat[y, x+1] = minmax(inMat[y, x+1] + quant_error_p * 7 / 16.0)\n",
        "            # inMat[y+1, x-1] = minmax(inMat[y+1, x-1] + quant_error_p * 3 / 16.0)\n",
        "            # inMat[y+1, x] = minmax(inMat[y+1, x] + quant_error_p * 5 / 16.0)\n",
        "            # inMat[y+1, x+1] = minmax(inMat[y+1, x+1] + quant_error_p * 1 / 16.0)\n",
        "            \n",
        "            inMat[y, x+1] = minmax(inMat[y, x+1] + quant_error_p * 7 / 16.0)\n",
        "            inMat[y+1, x-1] = minmax(inMat[y+1, x-1] + quant_error_p * 3 / 16.0)\n",
        "            inMat[y+1, x] = minmax(inMat[y+1, x] + quant_error_p * 5 / 16.0)\n",
        "            inMat[y+1, x+1] = minmax(inMat[y+1, x+1] + quant_error_p * 1 / 16.0)\n",
        "\n",
        "\n",
        "            #   quant_error  := oldpixel - newpixel\n",
        "            #   pixel[x + 1][y    ] := pixel[x + 1][y    ] + quant_error * 7 / 16\n",
        "            #   pixel[x - 1][y + 1] := pixel[x - 1][y + 1] + quant_error * 3 / 16\n",
        "            #   pixel[x    ][y + 1] := pixel[x    ][y + 1] + quant_error * 5 / 16\n",
        "            #   pixel[x + 1][y + 1] := pixel[x + 1][y + 1] + quant_error * 1 / 16\n",
        "\n",
        "\n",
        "    # return the thresholded image\n",
        "    return inMat\n",
        "\n",
        "\n",
        "\n",
        "\n",
        "def dithering_color(inMat, samplingF):\n",
        "    #https://en.wikipedia.org/wiki/Floyd–Steinberg_dithering\n",
        "    #https://www.youtube.com/watch?v=0L2n8Tg2FwI&t=0s&list=WL&index=151\n",
        "    #input is supposed as color\n",
        "    # grab the image dimensions\n",
        "    h = inMat.shape[0]\n",
        "    w = inMat.shape[1]\n",
        "     \n",
        "    # loop over the image\n",
        "    for y in range(0, h-1):\n",
        "        for x in range(1, w-1):\n",
        "            # threshold the pixel\n",
        "            old_b = inMat[y, x, 0]\n",
        "            old_g = inMat[y, x, 1]\n",
        "            old_r = inMat[y, x, 2]\n",
        "            \n",
        "            new_b = np.round(samplingF * old_b/255.0) * (255/samplingF)\n",
        "            new_g = np.round(samplingF * old_g/255.0) * (255/samplingF)\n",
        "            new_r = np.round(samplingF * old_r/255.0) * (255/samplingF)\n",
        "\n",
        "\n",
        "            inMat[y, x, 0] = new_b\n",
        "            inMat[y, x, 1] = new_g\n",
        "            inMat[y, x, 2] = new_r\n",
        "\n",
        "\n",
        "\n",
        "\n",
        "            quant_error_b = old_b - new_b\n",
        "            quant_error_g = old_g - new_g\n",
        "            quant_error_r = old_r - new_r\n",
        "\n",
        "\n",
        "            inMat[y, x+1, 0] = minmax(inMat[y, x+1, 0] + quant_error_b * 7 / 16.0)\n",
        "            inMat[y, x+1, 1] = minmax(inMat[y, x+1, 1] + quant_error_g * 7 / 16.0)\n",
        "            inMat[y, x+1, 2] = minmax(inMat[y, x+1, 2] + quant_error_r * 7 / 16.0)\n",
        "            \n",
        "            inMat[y+1, x-1, 0] = minmax(inMat[y+1, x-1, 0] + quant_error_b * 3 / 16.0)\n",
        "            inMat[y+1, x-1, 1] = minmax(inMat[y+1, x-1, 1] + quant_error_g * 3 / 16.0)\n",
        "            inMat[y+1, x-1, 2] = minmax(inMat[y+1, x-1, 2] + quant_error_r * 3 / 16.0)\n",
        "\n",
        "\n",
        "            inMat[y+1, x, 0] = minmax(inMat[y+1, x, 0] + quant_error_b * 5 / 16.0)\n",
        "            inMat[y+1, x, 1] = minmax(inMat[y+1, x, 1] + quant_error_g * 5 / 16.0)\n",
        "            inMat[y+1, x, 2] = minmax(inMat[y+1, x, 2] + quant_error_r * 5 / 16.0)\n",
        "\n",
        "\n",
        "            inMat[y+1, x+1, 0] = minmax(inMat[y+1, x+1, 0] + quant_error_b * 1 / 16.0)\n",
        "            inMat[y+1, x+1, 1] = minmax(inMat[y+1, x+1, 1] + quant_error_g * 1 / 16.0)\n",
        "            inMat[y+1, x+1, 2] = minmax(inMat[y+1, x+1, 2] + quant_error_r * 1 / 16.0)\n",
        "\n",
        "\n",
        "            #   quant_error  := oldpixel - newpixel\n",
        "            #   pixel[x + 1][y    ] := pixel[x + 1][y    ] + quant_error * 7 / 16\n",
        "            #   pixel[x - 1][y + 1] := pixel[x - 1][y + 1] + quant_error * 3 / 16\n",
        "            #   pixel[x    ][y + 1] := pixel[x    ][y + 1] + quant_error * 5 / 16\n",
        "            #   pixel[x + 1][y + 1] := pixel[x + 1][y + 1] + quant_error * 1 / 16\n",
        "\n",
        "\n",
        "    # return the thresholded image\n",
        "    return inMat\n",
        "\n",
        "\n",
        "\n",
        "\n",
        "#read image\n",
        "inMat = cv2.imread('profile_etsy.png') #lena.png')\n",
        "#color ditering\n",
        "outMat_color = dithering_color(inMat.copy(), 1)\n",
        "cv2.imwrite('out_profile.png', outMat_color)\n"
      ],
      "execution_count": 3,
      "outputs": [
        {
          "output_type": "stream",
          "text": [
            "Requirement already satisfied: PyDither in /usr/local/lib/python3.7/dist-packages (0.0.1)\n",
            "Requirement already satisfied: opencv-python in /usr/local/lib/python3.7/dist-packages (from PyDither) (4.1.2.30)\n",
            "Requirement already satisfied: numpy==1.19.0 in /usr/local/lib/python3.7/dist-packages (from PyDither) (1.19.0)\n"
          ],
          "name": "stdout"
        },
        {
          "output_type": "execute_result",
          "data": {
            "text/plain": [
              "True"
            ]
          },
          "metadata": {
            "tags": []
          },
          "execution_count": 3
        }
      ]
    }
  ]
}