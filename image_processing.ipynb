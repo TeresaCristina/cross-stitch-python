{
  "nbformat": 4,
  "nbformat_minor": 0,
  "metadata": {
    "colab": {
      "name": "image_processing.ipynb",
      "provenance": [],
      "authorship_tag": "ABX9TyOuXbbRqjjNIzPvVXc7Y5jz",
      "include_colab_link": true
    },
    "kernelspec": {
      "name": "python3",
      "display_name": "Python 3"
    },
    "language_info": {
      "name": "python"
    }
  },
  "cells": [
    {
      "cell_type": "markdown",
      "metadata": {
        "id": "view-in-github",
        "colab_type": "text"
      },
      "source": [
        "<a href=\"https://colab.research.google.com/github/TeresaCristina/cross-stitch-python/blob/main/image_processing.ipynb\" target=\"_parent\"><img src=\"https://colab.research.google.com/assets/colab-badge.svg\" alt=\"Open In Colab\"/></a>"
      ]
    },
    {
      "cell_type": "code",
      "metadata": {
        "id": "3VNjWwaqr0GH"
      },
      "source": [
        "\"This is a new project\""
      ],
      "execution_count": null,
      "outputs": []
    }
  ]
}