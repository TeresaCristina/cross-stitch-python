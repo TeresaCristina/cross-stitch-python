{
  "nbformat": 4,
  "nbformat_minor": 0,
  "metadata": {
    "colab": {
      "name": "image_processing.ipynb",
      "provenance": [],
      "collapsed_sections": [],
      "authorship_tag": "ABX9TyOICqoaomy5gb9H5qt9njwi",
      "include_colab_link": true
    },
    "kernelspec": {
      "name": "python3",
      "display_name": "Python 3"
    },
    "language_info": {
      "name": "python"
    }
  },
  "cells": [
    {
      "cell_type": "markdown",
      "metadata": {
        "id": "view-in-github",
        "colab_type": "text"
      },
      "source": [
        "<a href=\"https://colab.research.google.com/github/TeresaCristina/cross-stitch-python/blob/main/image_processing.ipynb\" target=\"_parent\"><img src=\"https://colab.research.google.com/assets/colab-badge.svg\" alt=\"Open In Colab\"/></a>"
      ]
    },
    {
      "cell_type": "code",
      "metadata": {
        "colab": {
          "base_uri": "https://localhost:8080/"
        },
        "id": "3VNjWwaqr0GH",
        "outputId": "c19e03b4-0cc2-43bd-ecb3-d648c85640ba"
      },
      "source": [
        "! pip install Pillow #running in bash\n",
        "! pip install colormap\n",
        "! pip install easydev"
      ],
      "execution_count": 181,
      "outputs": [
        {
          "output_type": "stream",
          "text": [
            "Requirement already satisfied: Pillow in /usr/local/lib/python3.7/dist-packages (7.1.2)\n",
            "Requirement already satisfied: colormap in /usr/local/lib/python3.7/dist-packages (1.0.3)\n",
            "Requirement already satisfied: easydev in /usr/local/lib/python3.7/dist-packages (0.11.1)\n",
            "Requirement already satisfied: colorama in /usr/local/lib/python3.7/dist-packages (from easydev) (0.4.4)\n",
            "Requirement already satisfied: colorlog in /usr/local/lib/python3.7/dist-packages (from easydev) (5.0.1)\n",
            "Requirement already satisfied: pexpect in /usr/local/lib/python3.7/dist-packages (from easydev) (4.8.0)\n",
            "Requirement already satisfied: ptyprocess>=0.5 in /usr/local/lib/python3.7/dist-packages (from pexpect->easydev) (0.7.0)\n"
          ],
          "name": "stdout"
        }
      ]
    },
    {
      "cell_type": "code",
      "metadata": {
        "id": "1oDvAERzudxW"
      },
      "source": [
        "#import PIL #library for image processing\n",
        "from PIL import Image"
      ],
      "execution_count": 182,
      "outputs": []
    },
    {
      "cell_type": "code",
      "metadata": {
        "id": "pH7Veg5Kuzee"
      },
      "source": [
        "profile_image = Image.open(\"profile_etsy.png\")\n",
        "#import matplotlib.pyplot as plt #profile_image.show()\n",
        "\n",
        "#profile_image  "
      ],
      "execution_count": 183,
      "outputs": []
    },
    {
      "cell_type": "code",
      "metadata": {
        "id": "1U3CeYOwzqWe"
      },
      "source": [
        "profile_image_resized = profile_image.resize((4,4))  # resize image \n",
        "#profile_image_resized"
      ],
      "execution_count": 184,
      "outputs": []
    },
    {
      "cell_type": "code",
      "metadata": {
        "colab": {
          "base_uri": "https://localhost:8080/"
        },
        "id": "C-ahGNOL1BIu",
        "outputId": "ad488c37-0529-4484-aa99-a291dd36e511"
      },
      "source": [
        "width, height = profile_image_resized.size\n",
        "print(width*height)"
      ],
      "execution_count": 185,
      "outputs": [
        {
          "output_type": "stream",
          "text": [
            "16\n"
          ],
          "name": "stdout"
        }
      ]
    },
    {
      "cell_type": "code",
      "metadata": {
        "id": "zuqQGhEB1Njo"
      },
      "source": [
        "profile_image_rgb = profile_image.convert(\"RGB\") # convert to rgb pixels"
      ],
      "execution_count": 186,
      "outputs": []
    },
    {
      "cell_type": "code",
      "metadata": {
        "id": "SZhIdx0owjbT"
      },
      "source": [
        "codes = []\n",
        "def getRgb (width, height, picture, codes):\n",
        "  for x in range(width):\n",
        "    for y in range(height):\n",
        "      #print(x,y)\n",
        "      rgb_coord_rgb = profile_image_rgb.getpixel((x,y)) # get the specific pixel\n",
        "      #rgb_coord_hex = '%02x%02x%02x' % rgb_coord_rgb  # converts from number to hex base\n",
        "      codes.append(rgb_coord_rgb)\n",
        "      #codes.append(rgb_coord_hex)\n",
        "  print(codes)"
      ],
      "execution_count": 187,
      "outputs": []
    },
    {
      "cell_type": "code",
      "metadata": {
        "colab": {
          "base_uri": "https://localhost:8080/"
        },
        "id": "tK2FGAs12a5u",
        "outputId": "6e7b42bd-9bc6-43bb-9ef4-a906a083dc53"
      },
      "source": [
        "getRgb(width,height,profile_image_resized, codes)"
      ],
      "execution_count": 188,
      "outputs": [
        {
          "output_type": "stream",
          "text": [
            "[(168, 159, 130), (168, 159, 130), (170, 161, 132), (168, 159, 130), (168, 159, 130), (169, 159, 130), (170, 161, 132), (169, 160, 131), (169, 160, 131), (168, 159, 130), (168, 159, 130), (169, 160, 131), (169, 160, 131), (170, 161, 132), (169, 160, 131), (168, 159, 130)]\n"
          ],
          "name": "stdout"
        }
      ]
    },
    {
      "cell_type": "code",
      "metadata": {
        "id": "SW5J1xj1A9hh"
      },
      "source": [
        "from colormap import rgb2hex\n",
        "from colormap import hex2rgb"
      ],
      "execution_count": 189,
      "outputs": []
    },
    {
      "cell_type": "code",
      "metadata": {
        "colab": {
          "base_uri": "https://localhost:8080/"
        },
        "id": "UPS-CNG55zmc",
        "outputId": "2b28767a-9ee6-483c-930d-200759e823e7"
      },
      "source": [
        "test_database_hex = [ '#BB051F', '#E02876', '#822637', '#707DA2', '#11416D', '#ACD8E2', '#3EB6A1', '#044D33', '#313919', '#7E6B42', '#FFE300', '#82340A', '#624B45', '#1E1108' ]\n",
        "test_database_rgb = []\n",
        "database_range = len(test_database_hex)\n",
        "\n",
        "def hexToRgb (colors_database_hex, colors_database_rgb, database_range):\n",
        "  for x in range(database_range):\n",
        "    new_code = hex2rgb(colors_database_hex[x])\n",
        "    colors_database_rgb.append(new_code)\n",
        "\n",
        "hexToRgb(test_database_hex,test_database_rgb, database_range)\n",
        "\n",
        "print(test_database_rgb)"
      ],
      "execution_count": 190,
      "outputs": [
        {
          "output_type": "stream",
          "text": [
            "[(187, 5, 31), (224, 40, 118), (130, 38, 55), (112, 125, 162), (17, 65, 109), (172, 216, 226), (62, 182, 161), (4, 77, 51), (49, 57, 25), (126, 107, 66), (255, 227, 0), (130, 52, 10), (98, 75, 69), (30, 17, 8)]\n"
          ],
          "name": "stdout"
        }
      ]
    },
    {
      "cell_type": "code",
      "metadata": {
        "colab": {
          "base_uri": "https://localhost:8080/"
        },
        "id": "GQYXme6QDEaX",
        "outputId": "45f0b7aa-142c-4080-e128-61522dfc4ea5"
      },
      "source": [
        "codes_range = len(codes)\n",
        "final_colors = []\n",
        "found_color = False\n",
        "\n",
        "def findFlossNumber(codes_range, database_range, final_colors):\n",
        "  for x in range(codes_range):\n",
        "    found_color = False\n",
        "    index_database = 0\n",
        "    for y in range(database_range):\n",
        "      if codes[x] == test_database_rgb[y] and found_color == False:\n",
        "        final_colors.append(codes[x])\n",
        "        found_color = True\n",
        "    if found_color == False:\n",
        "      diff = 100000000\n",
        "      for z in range(database_range):\n",
        "        new_diff = (test_database_rgb[z][0] - codes[x][0])**2 + (test_database_rgb[z][1] - codes[x][1])**2 + (test_database_rgb[z][2] - codes[x][2])**2\n",
        "        if new_diff < diff:\n",
        "          diff = new_diff\n",
        "          index_database = z\n",
        "      final_colors.append(test_database_rgb[index_database])\n",
        "\n",
        "findFlossNumber(codes_range, database_range, final_colors)\n",
        "\n",
        "print(final_colors)\n"
      ],
      "execution_count": 211,
      "outputs": [
        {
          "output_type": "stream",
          "text": [
            "[(187, 5, 31), (98, 75, 69), (130, 38, 55), (112, 125, 162)]\n"
          ],
          "name": "stdout"
        }
      ]
    },
    {
      "cell_type": "code",
      "metadata": {
        "colab": {
          "base_uri": "https://localhost:8080/"
        },
        "id": "5xD7iACpLFSx",
        "outputId": "b16f0f67-ae8c-4f1d-e464-4bcbb78f9208"
      },
      "source": [
        "codes = [(187, 5, 30), (90, 40, 118), (130, 36, 55), (112, 125, 162)]\n",
        "codes_range = len(codes)\n",
        "test_final_colors = []\n",
        "\n",
        "findFlossNumber(codes_range, database_range, test_final_colors)\n",
        "\n",
        "print(test_final_colors)"
      ],
      "execution_count": 212,
      "outputs": [
        {
          "output_type": "stream",
          "text": [
            "[(187, 5, 31), (98, 75, 69), (130, 38, 55), (112, 125, 162)]\n"
          ],
          "name": "stdout"
        }
      ]
    }
  ]
}